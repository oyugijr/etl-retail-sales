{
 "cells": [
  {
   "cell_type": "markdown",
   "id": "1afcec56",
   "metadata": {},
   "source": [
    "# ✅ Step-by-Step Guide (Jupyter Notebook)\n",
    "\n",
    "## 🔧 1. Install Required Packages"
   ]
  },
  {
   "cell_type": "code",
   "execution_count": 4,
   "id": "d691a3d7",
   "metadata": {},
   "outputs": [
    {
     "name": "stdout",
     "output_type": "stream",
     "text": [
      "Requirement already satisfied: duckdb in c:\\users\\hp\\eos\\oprog\\etl-retail-sales\\.venv\\lib\\site-packages (1.2.2)\n",
      "Note: you may need to restart the kernel to use updated packages.\n"
     ]
    },
    {
     "name": "stderr",
     "output_type": "stream",
     "text": [
      "ERROR: Could not find a version that satisfies the requirement duckdb-async (from versions: none)\n",
      "ERROR: No matching distribution found for duckdb-async\n"
     ]
    }
   ],
   "source": [
    "%pip install duckdb duckdb-async nest_asyncio"
   ]
  },
  {
   "cell_type": "markdown",
   "id": "1b9b6bc0",
   "metadata": {},
   "source": [
    "## 🧩 2. Enable Async Support in Jupyter Notebook\n",
    "\n",
    "Jupyter doesn’t allow asyncio.run() directly, so you use nest_asyncio to allow nested event loops."
   ]
  },
  {
   "cell_type": "code",
   "execution_count": 3,
   "id": "87c0ec2f",
   "metadata": {},
   "outputs": [],
   "source": [
    "import nest_asyncio\n",
    "nest_asyncio.apply()"
   ]
  },
  {
   "cell_type": "markdown",
   "id": "aeff420f",
   "metadata": {},
   "source": [
    "## 🧪 3. Query DuckDB Asynchronously\n"
   ]
  }
 ],
 "metadata": {
  "kernelspec": {
   "display_name": ".venv",
   "language": "python",
   "name": "python3"
  },
  "language_info": {
   "codemirror_mode": {
    "name": "ipython",
    "version": 3
   },
   "file_extension": ".py",
   "mimetype": "text/x-python",
   "name": "python",
   "nbconvert_exporter": "python",
   "pygments_lexer": "ipython3",
   "version": "3.12.3"
  }
 },
 "nbformat": 4,
 "nbformat_minor": 5
}
